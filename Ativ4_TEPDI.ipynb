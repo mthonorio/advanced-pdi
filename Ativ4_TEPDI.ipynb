{
 "cells": [
  {
   "cell_type": "code",
   "execution_count": 1,
   "metadata": {},
   "outputs": [],
   "source": [
    "import numpy as np\n",
    "import cv2 as cv\n",
    "import matplotlib.pyplot as plt\n",
    "%matplotlib inline"
   ]
  },
  {
   "cell_type": "markdown",
   "metadata": {},
   "source": [
    "# 1. Implemente uma transformação de intensidade de limiarização, ou seja, em que todos os pixels abaixo de um limiar são definidos em 0 e acima do limiar são definidos em L − 1. Aplique esta transformação nos canais de imagem de um vídeo colorido. Exiba o resultado e compare com o vídeo original. Escreva um curto parágrafo descrevendo o que e observado como resultado da transformação."
   ]
  },
  {
   "cell_type": "code",
   "execution_count": 2,
   "metadata": {},
   "outputs": [
    {
     "name": "stdout",
     "output_type": "stream",
     "text": [
      "Can't receive frame (stream end?). Exiting ...\n"
     ]
    }
   ],
   "source": [
    "L = 100\n",
    "\n",
    "cap = cv.VideoCapture('content/corgi_race.mp4')\n",
    "\n",
    "while cap.isOpened():\n",
    "    ret, frame = cap.read()\n",
    "    # if frame is read correctly ret is True\n",
    "    if not ret:\n",
    "        print(\"Can't receive frame (stream end?). Exiting ...\")\n",
    "        break\n",
    "    frame = cv.resize(frame, (640, 480))\n",
    "\n",
    "    frame[frame <= L] = 0\n",
    "    frame[frame > L] = 255\n",
    "    \n",
    "    cv.imshow('frame', frame)\n",
    "    if cv.waitKey(1) == ord('q'):\n",
    "        break\n",
    "cap.release()\n",
    "cv.destroyAllWindows()"
   ]
  },
  {
   "cell_type": "markdown",
   "metadata": {},
   "source": [
    "# 2. Implemente uma transformação de intensidade de negativo. Aplique esta transformação nos canais de imagem de um vídeo colorido. Exiba e compare os resultados. Escreva um curto parágrafo descrevendo o que é observado como resultado da transformação."
   ]
  },
  {
   "cell_type": "code",
   "execution_count": 3,
   "metadata": {},
   "outputs": [
    {
     "name": "stdout",
     "output_type": "stream",
     "text": [
      "Can't receive frame (stream end?). Exiting ...\n"
     ]
    }
   ],
   "source": [
    "cap = cv.VideoCapture('content/corgi_race.mp4')\n",
    "\n",
    "while cap.isOpened():\n",
    "    ret, frame = cap.read()\n",
    "    # if frame is read correctly ret is True\n",
    "    if not ret:\n",
    "        print(\"Can't receive frame (stream end?). Exiting ...\")\n",
    "        break\n",
    "    frame = cv.resize(frame, (640, 480))\n",
    "\n",
    "    frame = 255 - frame\n",
    "    \n",
    "    cv.imshow('frame', frame)\n",
    "    if cv.waitKey(1) == ord('q'):\n",
    "        break\n",
    "cap.release()\n",
    "cv.destroyAllWindows()"
   ]
  },
  {
   "cell_type": "markdown",
   "metadata": {},
   "source": [
    "# 3. Implemente uma transformação de intensidade logarítimica nos canais de imagem de um vídeo colorido. Compare o impacto na imagem para diferentes valores da constante c, incluindo o caso de normalização pelo valor máximo do logaritmo da imagem. Escreva um curto parágrafo descrevendo o que é observado como resultado da transformação."
   ]
  },
  {
   "cell_type": "code",
   "execution_count": 4,
   "metadata": {},
   "outputs": [
    {
     "name": "stdout",
     "output_type": "stream",
     "text": [
      "Can't receive frame (stream end?). Exiting ...\n"
     ]
    }
   ],
   "source": [
    "c = 0.05\n",
    "\n",
    "cap = cv.VideoCapture('content/corgi_race.mp4')\n",
    "\n",
    "while cap.isOpened():\n",
    "    ret, frame = cap.read()\n",
    "    # if frame is read correctly ret is True\n",
    "    if not ret:\n",
    "        print(\"Can't receive frame (stream end?). Exiting ...\")\n",
    "        break\n",
    "    frame = cv.resize(frame, (640, 480))\n",
    "\n",
    "    frame = c*np.log(1 + np.float32(frame))\n",
    "    \n",
    "    cv.imshow('frame', frame)\n",
    "    if cv.waitKey(1) == ord('q'):\n",
    "        break\n",
    "cap.release()\n",
    "cv.destroyAllWindows()"
   ]
  },
  {
   "cell_type": "markdown",
   "metadata": {},
   "source": [
    "# 4. Implemente uma transformação de intensidade exponencial nos canais de imagem de um vídeo colorido. Compare o impacto na imagem para diferentes valores das constantes c e γ. Escreva um curto parágrafo descrevendo o que é observado como resultado da transformação."
   ]
  },
  {
   "cell_type": "code",
   "execution_count": 5,
   "metadata": {},
   "outputs": [
    {
     "name": "stdout",
     "output_type": "stream",
     "text": [
      "Can't receive frame (stream end?). Exiting ...\n"
     ]
    }
   ],
   "source": [
    "c = 0.05\n",
    "gamma = 0.5\n",
    "\n",
    "cap = cv.VideoCapture('content/corgi_race.mp4')\n",
    "\n",
    "while cap.isOpened():\n",
    "    ret, frame = cap.read()\n",
    "    # if frame is read correctly ret is True\n",
    "    if not ret:\n",
    "        print(\"Can't receive frame (stream end?). Exiting ...\")\n",
    "        break\n",
    "    frame = cv.resize(frame, (640, 480))\n",
    "\n",
    "    frame = c*(frame)**gamma\n",
    "    \n",
    "    cv.imshow('frame', frame)\n",
    "    if cv.waitKey(1) == ord('q'):\n",
    "        break\n",
    "cap.release()\n",
    "cv.destroyAllWindows()"
   ]
  },
  {
   "cell_type": "markdown",
   "metadata": {},
   "source": [
    "# 5. Implemente uma transformação de intensidade de equalização de histograma no canal vermelho um vídeo colorido. Compare o resultado da sua implementação com a função cv.equalizeHist(). Escreva um curto parágrafo descrevendo o que é observado como resultado da transformação."
   ]
  },
  {
   "cell_type": "code",
   "execution_count": 6,
   "metadata": {},
   "outputs": [],
   "source": [
    "def Equalize(img: np.array):\n",
    "\n",
    "    u, freq = np.unique(img, return_counts=True)\n",
    "    it = iter(freq)\n",
    "    qnt = np.array([next(it) if i in u else 0 for i in range(256)])\n",
    "\n",
    "    for i in range(1, len(qnt)):\n",
    "        qnt[i] += qnt[i-1]    \n",
    "\n",
    "    c = 255/(img.shape[0] * img.shape[1])\n",
    "\n",
    "    f = np.vectorize(lambda r: int(round(c*qnt[r])))\n",
    "\n",
    "    return f(img).astype('uint8')"
   ]
  },
  {
   "cell_type": "code",
   "execution_count": 7,
   "metadata": {},
   "outputs": [
    {
     "name": "stdout",
     "output_type": "stream",
     "text": [
      "Can't receive frame (stream end?). Exiting ...\n"
     ]
    }
   ],
   "source": [
    "cap = cv.VideoCapture('content/corgi_race.mp4')\n",
    "\n",
    "while cap.isOpened():\n",
    "    ret, frame = cap.read()\n",
    "    # if frame is read correctly ret is True\n",
    "    if not ret:\n",
    "        print(\"Can't receive frame (stream end?). Exiting ...\")\n",
    "        break\n",
    "    frame = cv.resize(frame, (640, 480))\n",
    "    r, g, b = cv.split(frame)\n",
    "\n",
    "    frame = cv.merge([Equalize(r), g, b])\n",
    "    cv.imshow('frame', frame)\n",
    "    if cv.waitKey(1) == ord('q'):\n",
    "        break\n",
    "cap.release()\n",
    "cv.destroyAllWindows()"
   ]
  },
  {
   "cell_type": "code",
   "execution_count": 8,
   "metadata": {},
   "outputs": [
    {
     "name": "stdout",
     "output_type": "stream",
     "text": [
      "Can't receive frame (stream end?). Exiting ...\n"
     ]
    }
   ],
   "source": [
    "cap = cv.VideoCapture('content/corgi_race.mp4')\n",
    "\n",
    "while cap.isOpened():\n",
    "    ret, frame = cap.read()\n",
    "    # if frame is read correctly ret is True\n",
    "    if not ret:\n",
    "        print(\"Can't receive frame (stream end?). Exiting ...\")\n",
    "        break\n",
    "    frame = cv.resize(frame, (640, 480))\n",
    "\n",
    "    r, g, b = cv.split(frame)\n",
    "    frame = cv.merge([cv.equalizeHist(r), g, b])\n",
    "    \n",
    "    cv.imshow('frame', frame)\n",
    "    if cv.waitKey(1) == ord('q'):\n",
    "        break\n",
    "cap.release()\n",
    "cv.destroyAllWindows()"
   ]
  },
  {
   "cell_type": "markdown",
   "metadata": {},
   "source": [
    "# 6. Converta um vídeo para escala de cinza e aplique uma transformação de limiarização em torno da média de intensidade de cada quadro. Em seguida, aplique um processo de erosão e um processo de dilatação utilizando um núcleo de tamanho suficiente para que os efeitos sejam perceptíveis. Escreva um curto parágrafo descrevendo os resultados observados quando comparados ao vídeo limiarizado original."
   ]
  },
  {
   "cell_type": "code",
   "execution_count": 9,
   "metadata": {},
   "outputs": [
    {
     "name": "stdout",
     "output_type": "stream",
     "text": [
      "Can't receive frame (stream end?). Exiting ...\n"
     ]
    }
   ],
   "source": [
    "cap = cv.VideoCapture('content/corgi_race.mp4')\n",
    "\n",
    "kernel = np.ones((5,5), \"uint8\")\n",
    "\n",
    "while cap.isOpened():\n",
    "    ret, frame = cap.read()\n",
    "    # if frame is read correctly ret is True\n",
    "    if not ret:\n",
    "        print(\"Can't receive frame (stream end?). Exiting ...\")\n",
    "        break\n",
    "    frame = cv.resize(frame, (640, 480))\n",
    "    #Conversáo para escala de cinza\n",
    "    frame = cv.cvtColor(frame, cv.COLOR_BGR2GRAY)\n",
    "    # Limiariza;áo pela média de intensidade do quadro\n",
    "    frame[frame <= np.mean(frame)] = 0\n",
    "    frame[frame >  np.mean(frame)] = 255\n",
    "    \n",
    "    frame = cv.dilate(frame, kernel)\n",
    "\n",
    "    cv.imshow('frame', frame)\n",
    "    if cv.waitKey(1) == ord('q'):\n",
    "        break\n",
    "cap.release()\n",
    "cv.destroyAllWindows()"
   ]
  },
  {
   "cell_type": "code",
   "execution_count": 10,
   "metadata": {},
   "outputs": [
    {
     "name": "stdout",
     "output_type": "stream",
     "text": [
      "Can't receive frame (stream end?). Exiting ...\n"
     ]
    }
   ],
   "source": [
    "cap = cv.VideoCapture('content/corgi_race.mp4')\n",
    "\n",
    "kernel = np.ones((5,5), \"uint8\")\n",
    "\n",
    "while cap.isOpened():\n",
    "    ret, frame = cap.read()\n",
    "    # if frame is read correctly ret is True\n",
    "    if not ret:\n",
    "        print(\"Can't receive frame (stream end?). Exiting ...\")\n",
    "        break\n",
    "    frame = cv.resize(frame, (640, 480))\n",
    "    #Conversáo para escala de cinza\n",
    "    frame = cv.cvtColor(frame, cv.COLOR_BGR2GRAY)\n",
    "    # Limiariza;áo pela média de intensidade do quadro\n",
    "    frame[frame <= np.mean(frame)] = 0\n",
    "    frame[frame >  np.mean(frame)] = 255\n",
    "    \n",
    "    frame = cv.erode(frame, kernel)\n",
    "\n",
    "    cv.imshow('frame', frame)\n",
    "    if cv.waitKey(1) == ord('q'):\n",
    "        break\n",
    "cap.release()\n",
    "cv.destroyAllWindows()"
   ]
  }
 ],
 "metadata": {
  "kernelspec": {
   "display_name": "pdienv",
   "language": "python",
   "name": "python3"
  },
  "language_info": {
   "codemirror_mode": {
    "name": "ipython",
    "version": 3
   },
   "file_extension": ".py",
   "mimetype": "text/x-python",
   "name": "python",
   "nbconvert_exporter": "python",
   "pygments_lexer": "ipython3",
   "version": "3.12.4"
  }
 },
 "nbformat": 4,
 "nbformat_minor": 2
}
