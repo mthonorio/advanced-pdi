{
  "cells": [
    {
      "cell_type": "markdown",
      "metadata": {
        "id": "FIi-RAsEZbe4"
      },
      "source": [
        "# 2º Atividade\n",
        "## Transformações de espaços de cores"
      ]
    },
    {
      "cell_type": "code",
      "execution_count": null,
      "metadata": {
        "id": "Qji9k3BJ3KBw"
      },
      "outputs": [],
      "source": [
        "import numpy as np\n",
        "import cv2 as cv\n",
        "import matplotlib.pyplot as plt\n",
        "%matplotlib inline"
      ]
    },
    {
      "cell_type": "code",
      "execution_count": null,
      "metadata": {
        "colab": {
          "base_uri": "https://localhost:8080/",
          "height": 211
        },
        "id": "V3reJ0VT_crO",
        "outputId": "1ee56e7f-345b-4c69-9cc0-03d14c2e134d"
      },
      "outputs": [
        {
          "ename": "ValueError",
          "evalue": "not enough values to unpack (expected 3, got 0)",
          "output_type": "error",
          "traceback": [
            "\u001b[0;31m---------------------------------------------------------------------------\u001b[0m",
            "\u001b[0;31mValueError\u001b[0m                                Traceback (most recent call last)",
            "\u001b[0;32m<ipython-input-2-386bf703247b>\u001b[0m in \u001b[0;36m<cell line: 4>\u001b[0;34m()\u001b[0m\n\u001b[1;32m      2\u001b[0m \u001b[0mimg\u001b[0m \u001b[0;34m=\u001b[0m \u001b[0mcv\u001b[0m\u001b[0;34m.\u001b[0m\u001b[0mimread\u001b[0m\u001b[0;34m(\u001b[0m\u001b[0mfilename\u001b[0m\u001b[0;34m,\u001b[0m\u001b[0;36m1\u001b[0m\u001b[0;34m)\u001b[0m\u001b[0;34m\u001b[0m\u001b[0;34m\u001b[0m\u001b[0m\n\u001b[1;32m      3\u001b[0m \u001b[0;34m\u001b[0m\u001b[0m\n\u001b[0;32m----> 4\u001b[0;31m \u001b[0mb\u001b[0m\u001b[0;34m,\u001b[0m \u001b[0mg\u001b[0m\u001b[0;34m,\u001b[0m \u001b[0mr\u001b[0m \u001b[0;34m=\u001b[0m \u001b[0mcv\u001b[0m\u001b[0;34m.\u001b[0m\u001b[0msplit\u001b[0m\u001b[0;34m(\u001b[0m\u001b[0mimg\u001b[0m\u001b[0;34m)\u001b[0m\u001b[0;34m\u001b[0m\u001b[0;34m\u001b[0m\u001b[0m\n\u001b[0m\u001b[1;32m      5\u001b[0m \u001b[0mimg_rgb\u001b[0m \u001b[0;34m=\u001b[0m \u001b[0mcv\u001b[0m\u001b[0;34m.\u001b[0m\u001b[0mmerge\u001b[0m\u001b[0;34m(\u001b[0m\u001b[0;34m[\u001b[0m\u001b[0mr\u001b[0m\u001b[0;34m,\u001b[0m \u001b[0mg\u001b[0m\u001b[0;34m,\u001b[0m \u001b[0mb\u001b[0m\u001b[0;34m]\u001b[0m\u001b[0;34m)\u001b[0m\u001b[0;34m\u001b[0m\u001b[0;34m\u001b[0m\u001b[0m\n\u001b[1;32m      6\u001b[0m \u001b[0mplt\u001b[0m\u001b[0;34m.\u001b[0m\u001b[0mimshow\u001b[0m\u001b[0;34m(\u001b[0m\u001b[0mimg_rgb\u001b[0m\u001b[0;34m)\u001b[0m\u001b[0;34m\u001b[0m\u001b[0;34m\u001b[0m\u001b[0m\n",
            "\u001b[0;31mValueError\u001b[0m: not enough values to unpack (expected 3, got 0)"
          ]
        }
      ],
      "source": [
        "filename = \"../content/starryNight.jpg\"\n",
        "img = cv.imread(filename,1)\n",
        "\n",
        "b, g, r = cv.split(img)\n",
        "img_rgb = cv.merge([r, g, b])\n",
        "plt.imshow(img_rgb)"
      ]
    },
    {
      "cell_type": "markdown",
      "metadata": {
        "id": "jjpKRoA1SWGK"
      },
      "source": [
        "## 1. Implemente uma função que converte uma imagem colorida no padrão RGB para o padrão HSV. Exiba as imagens monocromáticas dos três canais resultantes da conversão."
      ]
    },
    {
      "cell_type": "code",
      "execution_count": null,
      "metadata": {
        "id": "D_ZIT9ZikvxU"
      },
      "outputs": [],
      "source": [
        "def rgb_to_hsv(image):\n",
        "    # Get the dimensions of the image\n",
        "    # image_np = np.array(image)\n",
        "    rows, cols, channels = image.shape\n",
        "    hsv = np.zeros_like(image, dtype=np.float32) # Initialize with float32 for HSV values\n",
        "    for i in range(rows):\n",
        "        for j in range(cols):\n",
        "            r, g, b = image[i, j, 0], image[i, j, 1], image[i, j, 2] # Extract individual color channels\n",
        "\n",
        "            # Normalize R, G and B\n",
        "            r /= 255.0\n",
        "            g /= 255.0\n",
        "            b /= 255.0\n",
        "\n",
        "            max_val = max(r, g, b)\n",
        "            min_val = min(r, g, b)\n",
        "            delta = max_val - min_val\n",
        "\n",
        "            if max_val == min_val:\n",
        "                h = 0\n",
        "            elif max_val == r:\n",
        "                h = (60 * ((g - b) / delta))\n",
        "            elif max_val == g:\n",
        "                h = (60 * (((b - r) / delta) + 2))\n",
        "            elif max_val == b:\n",
        "                h = (60 * (((r - g) / delta) + 4))\n",
        "\n",
        "            if h < 0:\n",
        "                h += 360\n",
        "\n",
        "            s = 0\n",
        "            if max_val != 0:\n",
        "                s = (delta / max_val)\n",
        "\n",
        "            v = max_val\n",
        "            hsv[i, j, :] = (h/2, s, v) # Assign HSV values to the pixel\n",
        "\n",
        "    return hsv"
      ]
    },
    {
      "cell_type": "code",
      "execution_count": null,
      "metadata": {
        "id": "PXW9brkjpJyZ"
      },
      "outputs": [],
      "source": [
        "img_hsv = rgb_to_hsv(img_rgb)\n",
        "img_hsv_normalized = img_hsv.astype(np.float32) / np.array([2*np.pi, 1, 1], dtype=np.float32)  # Normalize HSV values\n",
        "plt.imshow(img_hsv_normalized)"
      ]
    },
    {
      "cell_type": "code",
      "execution_count": null,
      "metadata": {
        "id": "Ag3OiIYF-b4f"
      },
      "outputs": [],
      "source": [
        "hue, saturation, value = cv.split(img_hsv_normalized)\n",
        "\n",
        "fig = plt.figure(figsize=(15, 5))\n",
        "\n",
        "ax1 = fig.add_subplot(131)\n",
        "ax1.set_title('Matiz')\n",
        "plt.imshow(hue, cmap='gray')\n",
        "\n",
        "ax2 = fig.add_subplot(132)\n",
        "ax2.set_title('Saturação')\n",
        "plt.imshow(saturation, cmap='gray')\n",
        "\n",
        "ax3 = fig.add_subplot(133)\n",
        "ax3.set_title('Valor')\n",
        "plt.imshow(value, cmap='gray')\n",
        "\n",
        "plt.show()"
      ]
    },
    {
      "cell_type": "markdown",
      "metadata": {
        "id": "YT0hehpMSgsY"
      },
      "source": [
        "## 2. Implemente uma função que converte uma imagem colorida no padrão HSV para o padrão RGB. Exiba as imagens monocromáticas dos três canais resultantes da conversão. Compare o resultado com as imagens monocromáticas dos canais da imagem RGB original."
      ]
    },
    {
      "cell_type": "code",
      "execution_count": null,
      "metadata": {
        "id": "IyU0AKZg29Kx"
      },
      "outputs": [],
      "source": [
        "# When 0 ≤ H < 360, 0 ≤ S and V ≤ 1:\n",
        "\n",
        "def hsv_to_rgb(image):\n",
        "    rows, cols, channels = image.shape\n",
        "    rgb = np.zeros_like(image, dtype=np.uint8)\n",
        "    for i in range(rows):\n",
        "        for j in range(cols):\n",
        "            h, s, v = image[i, j, 0], image[i, j, 1], image[i, j, 2]\n",
        "\n",
        "            c = v * s\n",
        "            x = (1 - abs((h / 60) % 2 - 1)) * c\n",
        "            m = v - c\n",
        "\n",
        "            if 0 <= h < 60:\n",
        "                r = c\n",
        "                g = x\n",
        "                b = 0\n",
        "            elif 60 <= h < 120:\n",
        "                r = x\n",
        "                g = c\n",
        "                b = 0\n",
        "            elif 120 <= h < 180:\n",
        "                r = 0\n",
        "                g = c\n",
        "                b = x\n",
        "            elif 180 <= h < 240:\n",
        "                r = 0\n",
        "                g = x\n",
        "                b = c\n",
        "            elif 240 <= h < 300:\n",
        "                r = x\n",
        "                g = 0\n",
        "                b = c\n",
        "            elif 300 <= h < 360:\n",
        "                r = c\n",
        "                g = 0\n",
        "                b = x\n",
        "\n",
        "            rgb[i, j, 0] = int(r + m) * 255\n",
        "            rgb[i, j, 1] = int(g + m) * 255\n",
        "            rgb[i, j, 2] = int(b + m) * 255\n",
        "\n",
        "    return rgb"
      ]
    },
    {
      "cell_type": "code",
      "execution_count": null,
      "metadata": {
        "id": "5e240A6oDD1I"
      },
      "outputs": [],
      "source": [
        "# When 0 ≤ H < 360, 0 ≤ S and V ≤ 1:\n",
        "\n",
        "def hsv_to_rgb(image):\n",
        "    rows, cols, channels = image.shape\n",
        "    rgb = np.zeros_like(image, dtype=np.uint8)\n",
        "    for i in range(rows):\n",
        "        for j in range(cols):\n",
        "\n",
        "\n",
        "            hi = np.floor(image[..., 0] / 60.0) % 6\n",
        "            hi = hi.astype('uint8')\n",
        "            v = image[..., 2].astype('float')\n",
        "            f = (image[..., 0] / 60.0) - np.floor(image[..., 0] / 60.0)\n",
        "            p = v * (1.0 - image[..., 1])\n",
        "            q = v * (1.0 - (f * image[..., 1]))\n",
        "            t = v * (1.0 - ((1.0 - f) * image[..., 1]))\n",
        "\n",
        "            rgb[hi == 0, :] = np.dstack((v, t, p))[hi == 0, :]\n",
        "            rgb[hi == 1, :] = np.dstack((q, v, p))[hi == 1, :]\n",
        "            rgb[hi == 2, :] = np.dstack((p, v, t))[hi == 2, :]\n",
        "            rgb[hi == 3, :] = np.dstack((p, q, v))[hi == 3, :]\n",
        "            rgb[hi == 4, :] = np.dstack((t, p, v))[hi == 4, :]\n",
        "            rgb[hi == 5, :] = np.dstack((v, p, q))[hi == 5, :]\n",
        "\n",
        "    return rgb"
      ]
    },
    {
      "cell_type": "code",
      "execution_count": null,
      "metadata": {
        "id": "Rg4L79K2z96O"
      },
      "outputs": [],
      "source": [
        "scalar = float # a scale value (0.0 to 1.0)\n",
        "def priv_hsv_to_rgb( h:scalar, s:scalar, v:scalar) -> tuple:\n",
        "    if s:\n",
        "        if h == 1.0: h = 0.0\n",
        "        i = int(h*6.0)\n",
        "        f = h*6.0 - i\n",
        "\n",
        "        w = v * (1.0 - s)\n",
        "        q = v * (1.0 - s * f)\n",
        "        t = v * (1.0 - s * (1.0 - f))\n",
        "\n",
        "        if i==0: return (v, t, w)\n",
        "        if i==1: return (q, v, w)\n",
        "        if i==2: return (w, v, t)\n",
        "        if i==3: return (w, q, v)\n",
        "        if i==4: return (t, w, v)\n",
        "        if i==5: return (v, w, q)\n",
        "        else: return (v, w, q)\n",
        "    else: return (v, v, v)\n",
        "\n",
        "def hsv_2_rgb_pixel( h:scalar, s:scalar, v:scalar) -> tuple:\n",
        "    ret = priv_hsv_to_rgb(h.astype(scalar), s.astype(scalar), v.astype(scalar))\n",
        "    #return list(map(lambda x: int(min(round(x*255), 255)), ret))\n",
        "    return ret"
      ]
    },
    {
      "cell_type": "code",
      "execution_count": null,
      "metadata": {
        "id": "8jocq5VG2cx4"
      },
      "outputs": [],
      "source": [
        "def hsv_2_rgb_img(img: np.ndarray) -> np.ndarray:\n",
        "    conv = np.copy(img)\n",
        "\n",
        "    for lines in range(len(img)):\n",
        "        for col in range(len(img[lines])):\n",
        "            conv[lines][col] = np.array(hsv_2_rgb_pixel(img[lines][col][0], img[lines][col][1], img[lines][col][2]))\n",
        "\n",
        "    return conv"
      ]
    },
    {
      "cell_type": "markdown",
      "metadata": {
        "id": "XYDR0HVUxQhH"
      },
      "source": [
        "Como os valores HSV são normalmente representados em intervalos diferentes\n",
        "(Matiz: 0-360, Saturação e Valor: 0-1),\n",
        "exibir diretamente a matriz img_hsv pode levar a resultados inesperados.\n",
        "Por isso, necessário uma normalização para exibir com o matplotlib"
      ]
    },
    {
      "cell_type": "code",
      "execution_count": null,
      "metadata": {
        "id": "HmVm_Adl53Kx"
      },
      "outputs": [],
      "source": [
        "print(img_hsv_normalized)"
      ]
    },
    {
      "cell_type": "code",
      "execution_count": null,
      "metadata": {
        "id": "w4Lyyct06vXB"
      },
      "outputs": [],
      "source": [
        "img_rgb_from_hsv = hsv_2_rgb_img(img_hsv_normalized)\n",
        "plt.imshow(img_rgb_from_hsv)"
      ]
    },
    {
      "cell_type": "code",
      "execution_count": null,
      "metadata": {
        "id": "1NxUWKXIaiGY"
      },
      "outputs": [],
      "source": [
        "n_r, n_g, n_b = cv.split(img_rgb_from_hsv)"
      ]
    },
    {
      "cell_type": "code",
      "execution_count": null,
      "metadata": {
        "id": "G6Z2xqhjcK7y"
      },
      "outputs": [],
      "source": [
        "# Create a figure with three subplots\n",
        "fig = plt.figure(figsize=(15, 5))\n",
        "\n",
        "# Subplot 1: Red channel\n",
        "ax1 = fig.add_subplot(131)\n",
        "ax1.set_title('Red Channel (gray)')\n",
        "plt.imshow(n_r, cmap='gray')\n",
        "\n",
        "# Subplot 2: Green channel\n",
        "ax2 = fig.add_subplot(132)\n",
        "ax2.set_title('Green Channel (gray)')\n",
        "plt.imshow(n_g, cmap='gray')\n",
        "\n",
        "# Subplot 3: Blue channel\n",
        "ax3 = fig.add_subplot(133)\n",
        "ax3.set_title('Blue Channel (gray)')\n",
        "plt.imshow(n_b, cmap='gray')\n",
        "\n",
        "# Show the figure\n",
        "plt.show()"
      ]
    },
    {
      "cell_type": "code",
      "execution_count": null,
      "metadata": {
        "id": "YVcoWMkeWe0h"
      },
      "outputs": [],
      "source": [
        "fig1 = plt.figure(1, figsize=(20, 9))\n",
        "# create subplot in fig1\n",
        "ax1 = fig1.subplots(2,3)\n",
        "# set 1st collumn plot\n",
        "ax1[0][0].imshow(r, cmap='Reds')\n",
        "ax1[0][0].title.set_text('Red Channel (cvt)')\n",
        "ax1[0][0].set_xticks([])\n",
        "ax1[0][0].set_yticks([])\n",
        "\n",
        "ax1[1][0].imshow(n_r, cmap='Reds')\n",
        "ax1[1][0].title.set_text('Red Channel')\n",
        "ax1[1][0].set_xticks([])\n",
        "ax1[1][0].set_yticks([])\n",
        "\n",
        "# set 2nd collumn plot\n",
        "ax1[0][1].imshow(g, cmap='Greens')\n",
        "ax1[0][1].title.set_text('Green Channel (cvt)')\n",
        "ax1[0][1].set_xticks([])\n",
        "ax1[0][1].set_yticks([])\n",
        "\n",
        "ax1[1][1].imshow(n_g, cmap='Greens')\n",
        "ax1[1][1].title.set_text('Green Channel')\n",
        "ax1[1][1].set_xticks([])\n",
        "ax1[1][1].set_yticks([])\n",
        "#3\n",
        "ax1[0][2].imshow(b, cmap='Blues')\n",
        "ax1[0][2].title.set_text('Blue Channel (cvt)')\n",
        "ax1[0][2].set_xticks([])\n",
        "ax1[0][2].set_yticks([])\n",
        "\n",
        "ax1[1][2].imshow(n_b, cmap='Blues')\n",
        "ax1[1][2].title.set_text('Blue Channel')\n",
        "ax1[1][2].set_xticks([])\n",
        "ax1[1][2].set_yticks([])\n",
        "# show figures\n",
        "plt.show()"
      ]
    },
    {
      "cell_type": "markdown",
      "metadata": {
        "id": "82hX23zUSlUN"
      },
      "source": [
        "## 3. Caso sejam observadas diferenças entre os canais RGB originais e os canais RGB reconvertidos pela função que você implementou, escreva um curto parágrafo justificando estas diferenças."
      ]
    },
    {
      "cell_type": "markdown",
      "metadata": {
        "id": "QyDcHUv1c1PL"
      },
      "source": [
        "As diferenças entre as imagens são claras, durante a conversão há algumas conversões diretas onde há perda de informação, por isso, as imagens convertidas não voltam a ser as mesmas."
      ]
    },
    {
      "cell_type": "markdown",
      "metadata": {
        "id": "mJqnfL3gSx_Z"
      },
      "source": [
        "## 4. Compare os resultados das conversões implementadas manualmente com as conversões utilizando a função cv.cvtColor()."
      ]
    },
    {
      "cell_type": "code",
      "execution_count": null,
      "metadata": {
        "id": "ZNM96af59c6J"
      },
      "outputs": [],
      "source": [
        "img_cvtHSV = cv.cvtColor(img_rgb, cv.COLOR_RGB2HSV)\n",
        "plt.imshow(img_cvtHSV)"
      ]
    },
    {
      "cell_type": "code",
      "execution_count": null,
      "metadata": {
        "id": "UnJvibJrshLA"
      },
      "outputs": [],
      "source": [
        "# Create a figure with two subplots\n",
        "fig = plt.figure(figsize=(15, 5))\n",
        "\n",
        "# Subplot 1: Hue channel\n",
        "ax1 = fig.add_subplot(121)\n",
        "ax1.set_title('Convertion manual RGB to HSV')\n",
        "plt.imshow(img_hsv_normalized)\n",
        "\n",
        "ax2 = fig.add_subplot(122)\n",
        "ax2.set_title('Cvt Convertion RGB to HSV')\n",
        "plt.imshow(img_cvtHSV)\n",
        "\n",
        "# Show the figure\n",
        "plt.show()"
      ]
    },
    {
      "cell_type": "code",
      "execution_count": null,
      "metadata": {
        "id": "zJp2r0aBRi6L"
      },
      "outputs": [],
      "source": [
        "# Create a figure with two subplots\n",
        "fig = plt.figure(figsize=(15, 5))\n",
        "\n",
        "# Subplot 1: Hue channel\n",
        "ax1 = fig.add_subplot(121)\n",
        "ax1.set_title('Convertion manual HSV to RGB')\n",
        "plt.imshow(img_rgb_from_hsv)\n",
        "\n",
        "ax2 = fig.add_subplot(122)\n",
        "ax2.set_title('Cvt Convertion HSV to RGB')\n",
        "plt.imshow(cv.cvtColor(img_cvtHSV, cv.COLOR_HSV2RGB))\n",
        "\n",
        "# Show the figure\n",
        "plt.show()"
      ]
    },
    {
      "cell_type": "markdown",
      "metadata": {
        "id": "FSsIkX-9S089"
      },
      "source": [
        "## 5. Implemente uma função que converte uma imagem colorida do padrão RGB para uma imagem em escala de cinza. Mostre o resultado da sua conversão e compare com a conversão utilizando cv.cvtColor()"
      ]
    },
    {
      "cell_type": "code",
      "execution_count": null,
      "metadata": {
        "id": "HHryB27U5KaI"
      },
      "outputs": [],
      "source": [
        "img_grayscale = cv.imread(filename,0)\n",
        "plt.imshow(img_grayscale, cmap=\"gray\")"
      ]
    },
    {
      "cell_type": "code",
      "execution_count": null,
      "metadata": {
        "id": "1DIzsdeb3iSu"
      },
      "outputs": [],
      "source": [
        "# Get the individual color channels\n",
        "cvt_red_channel, cvt_green_channel, cvt_blue_channel = cv.split(img_rgb)\n",
        "\n",
        "# Create a figure with three subplots\n",
        "fig = plt.figure(figsize=(15, 5))\n",
        "\n",
        "# Subplot 1: Red channel\n",
        "ax1 = fig.add_subplot(131)\n",
        "ax1.set_title('Red Channel (cvt)')\n",
        "plt.imshow(cvt_red_channel, cmap='gray')\n",
        "\n",
        "# Subplot 2: Green channel\n",
        "ax2 = fig.add_subplot(132)\n",
        "ax2.set_title('Green Channel (cvt)')\n",
        "plt.imshow(cvt_green_channel, cmap='gray')\n",
        "\n",
        "# Subplot 3: Blue channel\n",
        "ax3 = fig.add_subplot(133)\n",
        "ax3.set_title('Blue Channel (cvt)')\n",
        "plt.imshow(cvt_blue_channel, cmap='gray')\n",
        "\n",
        "# Show the figure\n",
        "plt.show()\n"
      ]
    },
    {
      "cell_type": "code",
      "execution_count": null,
      "metadata": {
        "id": "0dA1vrYeRi6L"
      },
      "outputs": [],
      "source": [
        "def RGB_2_gray_img(img: np.ndarray) -> np.ndarray:\n",
        "    conv = np.copy(img)\n",
        "\n",
        "    for lines in range(len(img)):\n",
        "        for col in range(len(img[lines])):\n",
        "            conv[lines][col] = (lambda r, g, b: np.full(3,r*.299+g*.587+b*.114))(img[lines][col][0], img[lines][col][1], img[lines][col][2])\n",
        "    return conv"
      ]
    },
    {
      "cell_type": "code",
      "execution_count": null,
      "metadata": {
        "id": "2Na2_r_gRi6L"
      },
      "outputs": [],
      "source": [
        "img_gray_conv = RGB_2_gray_img(img_rgb)\n",
        "plt.imshow(img_gray_conv)"
      ]
    },
    {
      "cell_type": "code",
      "execution_count": null,
      "metadata": {
        "id": "roFW0TCaW90k"
      },
      "outputs": [],
      "source": [
        "# Get the individual color channels\n",
        "red_channel, green_channel, blue_channel = cv.split(img_gray_conv)\n",
        "\n",
        "# Create a figure with three subplots\n",
        "fig = plt.figure(figsize=(15, 5))\n",
        "\n",
        "# Subplot 1: Red channel\n",
        "ax1 = fig.add_subplot(131)\n",
        "ax1.set_title('Red Channel')\n",
        "plt.imshow(red_channel, cmap='gray')\n",
        "\n",
        "# Subplot 2: Green channel\n",
        "ax2 = fig.add_subplot(132)\n",
        "ax2.set_title('Green Channel')\n",
        "plt.imshow(green_channel, cmap='gray')\n",
        "\n",
        "# Subplot 3: Blue channel\n",
        "ax3 = fig.add_subplot(133)\n",
        "ax3.set_title('Blue Channel')\n",
        "plt.imshow(blue_channel, cmap='gray')\n",
        "\n",
        "# Show the figure\n",
        "plt.show()"
      ]
    },
    {
      "cell_type": "code",
      "execution_count": null,
      "metadata": {
        "id": "dIMl9bmfRi6L"
      },
      "outputs": [],
      "source": [
        "# Create a figure with two subplots\n",
        "fig = plt.figure(figsize=(15, 5))\n",
        "\n",
        "# Subplot 1: Hue channel\n",
        "ax1 = fig.add_subplot(121)\n",
        "ax1.set_title('Convertion manual RGB to GRAY')\n",
        "plt.imshow(img_gray_conv)\n",
        "\n",
        "ax2 = fig.add_subplot(122)\n",
        "ax2.set_title('Cvt Convertion RGB to GRAY')\n",
        "plt.imshow(cv.cvtColor(img_rgb, cv.COLOR_RGB2GRAY), cmap='gray')\n",
        "\n",
        "# Show the figure\n",
        "plt.show()"
      ]
    },
    {
      "cell_type": "code",
      "execution_count": null,
      "metadata": {
        "id": "UJMw5rWrXGQK"
      },
      "outputs": [],
      "source": [
        "fig1 = plt.figure(1, figsize=(20, 9))\n",
        "# create subplot in fig1\n",
        "ax1 = fig1.subplots(2,3)\n",
        "# set 1st collumn plot\n",
        "ax1[0][0].imshow(cvt_red_channel, cmap='gray')\n",
        "ax1[0][0].title.set_text('Red Channel (cvt)')\n",
        "ax1[0][0].set_xticks([])\n",
        "ax1[0][0].set_yticks([])\n",
        "\n",
        "ax1[1][0].imshow(red_channel, cmap='gray')\n",
        "ax1[1][0].title.set_text('Red Channel')\n",
        "ax1[1][0].set_xticks([])\n",
        "ax1[1][0].set_yticks([])\n",
        "\n",
        "# set 2nd collumn plot\n",
        "ax1[0][1].imshow(cvt_green_channel, cmap='gray')\n",
        "ax1[0][1].title.set_text('Green Channel (cvt)')\n",
        "ax1[0][1].set_xticks([])\n",
        "ax1[0][1].set_yticks([])\n",
        "\n",
        "ax1[1][1].imshow(green_channel, cmap='gray')\n",
        "ax1[1][1].title.set_text('Green Channel')\n",
        "ax1[1][1].set_xticks([])\n",
        "ax1[1][1].set_yticks([])\n",
        "#3\n",
        "ax1[0][2].imshow(cvt_blue_channel, cmap='gray')\n",
        "ax1[0][2].title.set_text('Blue Channel (cvt)')\n",
        "ax1[0][2].set_xticks([])\n",
        "ax1[0][2].set_yticks([])\n",
        "\n",
        "ax1[1][2].imshow(blue_channel, cmap='gray')\n",
        "ax1[1][2].title.set_text('Blue Channel')\n",
        "ax1[1][2].set_xticks([])\n",
        "ax1[1][2].set_yticks([])\n",
        "# show figures\n",
        "plt.show()"
      ]
    },
    {
      "cell_type": "code",
      "execution_count": null,
      "metadata": {
        "id": "StndrcwqZWYj"
      },
      "outputs": [],
      "source": []
    }
  ],
  "metadata": {
    "colab": {
      "provenance": []
    },
    "kernelspec": {
      "display_name": "Python 3",
      "name": "python3"
    },
    "language_info": {
      "codemirror_mode": {
        "name": "ipython",
        "version": 3
      },
      "file_extension": ".py",
      "mimetype": "text/x-python",
      "name": "python",
      "nbconvert_exporter": "python",
      "pygments_lexer": "ipython3",
      "version": "3.12.4"
    }
  },
  "nbformat": 4,
  "nbformat_minor": 0
}
