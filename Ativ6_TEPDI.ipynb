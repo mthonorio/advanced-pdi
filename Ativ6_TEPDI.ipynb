{
  "cells": [
    {
      "cell_type": "code",
      "execution_count": 1,
      "metadata": {},
      "outputs": [],
      "source": [
        "import numpy as np\n",
        "import cv2 as cv\n",
        "import matplotlib.pyplot as plt\n",
        "%matplotlib inline"
      ]
    },
    {
      "cell_type": "code",
      "execution_count": 2,
      "metadata": {},
      "outputs": [
        {
          "name": "stdout",
          "output_type": "stream",
          "text": [
            "Can’t receive frame (stream end?). Exiting ...\n"
          ]
        }
      ],
      "source": [
        "cap = cv.VideoCapture('content/corgi_race.mp4')\n",
        "\n",
        "while cap.isOpened():\n",
        "  ret, frame = cap.read()\n",
        "  #Frame com defeito\n",
        "  if not ret:\n",
        "    print(\"Can’t receive frame (stream end?). Exiting ...\")\n",
        "    break\n",
        "  #Transforma;óes desejadas\n",
        "  cv.imshow('frame', frame)\n",
        "\n",
        "  if cv.waitKey(1) == ord('q'):\n",
        "    break\n",
        "\n",
        "\n",
        "cap.release()\n",
        "cv.destroyAllWindows()"
      ]
    },
    {
      "cell_type": "markdown",
      "metadata": {},
      "source": [
        "# 1- Exiba um vídeo processado onde apenas os pixels de uma determinada cor estáo representados, sendo os demais definidos em preto."
      ]
    },
    {
      "cell_type": "code",
      "execution_count": 3,
      "metadata": {},
      "outputs": [
        {
          "name": "stdout",
          "output_type": "stream",
          "text": [
            "Can’t receive frame (stream end?). Exiting ...\n"
          ]
        }
      ],
      "source": [
        "cap = cv.VideoCapture('content/corgi_race.mp4')\n",
        "\n",
        "while cap.isOpened():\n",
        "    ret, frame = cap.read()\n",
        "    if not ret:\n",
        "        print(\"Can’t receive frame (stream end?). Exiting ...\")\n",
        "        break\n",
        "\n",
        "    # Conversão para o espaço de cor HSV\n",
        "    img_hsv = cv.cvtColor(frame, cv.COLOR_BGR2HSV)\n",
        "\n",
        "    # Definição dos limites de cor para o filtro\n",
        "    lower = np.array([100, 150, 0])\n",
        "    upper = np.array([140, 255, 255])\n",
        "\n",
        "    # Aplicação do filtro de cor\n",
        "    color_mask = cv.inRange(img_hsv, lower, upper)\n",
        "\n",
        "    # Aplicação da máscara ao frame original\n",
        "    frame_fg = cv.bitwise_and(frame, frame, mask=color_mask)\n",
        "\n",
        "    # Exibição do frame resultante\n",
        "    cv.imshow('frame', frame_fg)\n",
        "\n",
        "    if cv.waitKey(1) == ord('q'):\n",
        "        break\n",
        "\n",
        "cap.release()\n",
        "cv.destroyAllWindows()"
      ]
    },
    {
      "cell_type": "code",
      "execution_count": 4,
      "metadata": {},
      "outputs": [
        {
          "name": "stdout",
          "output_type": "stream",
          "text": [
            "Can’t receive frame (stream end?). Exiting ...\n"
          ]
        }
      ],
      "source": [
        "cap = cv.VideoCapture('content/corgi_race.mp4')\n",
        "\n",
        "while cap.isOpened():\n",
        "    ret, frame = cap.read()\n",
        "    if not ret:\n",
        "        print(\"Can’t receive frame (stream end?). Exiting ...\")\n",
        "        break\n",
        "\n",
        "    # Conversão para o espaço de cor HSV\n",
        "    img_hsv = cv.cvtColor(frame, cv.COLOR_BGR2HSV)\n",
        "\n",
        "    # Definição dos limites de cor para o vermelho (duas faixas)\n",
        "    lower_red1 = np.array([0, 120, 70])\n",
        "    upper_red1 = np.array([10, 255, 255])\n",
        "    lower_red2 = np.array([170, 120, 70])\n",
        "    upper_red2 = np.array([180, 255, 255])\n",
        "\n",
        "    # Aplicação do filtro de cor para as duas faixas\n",
        "    mask1 = cv.inRange(img_hsv, lower_red1, upper_red1)\n",
        "    mask2 = cv.inRange(img_hsv, lower_red2, upper_red2)\n",
        "\n",
        "    # Combinação das duas máscaras\n",
        "    color_mask = cv.bitwise_or(mask1, mask2)\n",
        "\n",
        "    # Aplicação da máscara ao frame original\n",
        "    frame_fg = cv.bitwise_and(frame, frame, mask=color_mask)\n",
        "\n",
        "    # Exibição do frame resultante\n",
        "    cv.imshow('frame', frame_fg)\n",
        "\n",
        "    if cv.waitKey(1) == ord('q'):\n",
        "        break\n",
        "\n",
        "cap.release()\n",
        "cv.destroyAllWindows()"
      ]
    },
    {
      "cell_type": "markdown",
      "metadata": {},
      "source": [
        "# 2- Rastreie um dos cachorros correndo no vídeo. O cachorro rastreado deve ser identificado através de um círculo desenhado em volta do cachorro alvo em cada um dos frames da imagem.\n"
      ]
    },
    {
      "cell_type": "code",
      "execution_count": 5,
      "metadata": {},
      "outputs": [
        {
          "name": "stdout",
          "output_type": "stream",
          "text": [
            "Não foi possível receber o frame (fim do stream?). Saindo ...\n"
          ]
        }
      ],
      "source": [
        "# Cor do cachorro a ser rastreada\n",
        "hue = 15\n",
        "saturation = 143 # ~ 56%\n",
        "value = 229 # ~ 90%\n",
        "\n",
        "# Definir a faixa de cor em HSV\n",
        "lower_color = np.array([hue - 5, max(saturation - 15, 0), max(value - 15, 0)])\n",
        "upper_color = np.array([hue + 5, min(saturation + 15, 255), min(value + 15, 255)])\n",
        "\n",
        "# Inicializar o vídeo\n",
        "cap = cv.VideoCapture('content/corgi_race.mp4')\n",
        "\n",
        "while cap.isOpened():\n",
        "    ret, frame = cap.read()\n",
        "    if not ret:\n",
        "        print(\"Não foi possível receber o frame (fim do stream?). Saindo ...\")\n",
        "        break\n",
        "\n",
        "    # Conversão para o espaço de cor HSV\n",
        "    img_hsv = cv.cvtColor(frame, cv.COLOR_BGR2HSV)\n",
        "\n",
        "    # Aplicação do filtro de cor\n",
        "    color_mask = cv.inRange(img_hsv, lower_color, upper_color)\n",
        "\n",
        "    # Encontrar os momentos da imagem filtrada\n",
        "    moments = cv.moments(color_mask)\n",
        "    if moments[\"m00\"] != 0:\n",
        "        # Calcular a posição do objeto\n",
        "        center_x = int(moments[\"m10\"] / moments[\"m00\"])\n",
        "        center_y = int(moments[\"m01\"] / moments[\"m00\"])\n",
        "\n",
        "        # Desenhar um círculo em torno do objeto rastreado\n",
        "        center = (center_x, center_y)\n",
        "        radius = 20  # Ajustar o raio conforme necessário\n",
        "        cv.circle(frame, center, radius, (0, 255, 0), 2)\n",
        "\n",
        "    # Exibir o frame resultante\n",
        "    cv.imshow('Rastreamento', frame)\n",
        "\n",
        "    # Sair do loop se a tecla 'q' for pressionada\n",
        "    if cv.waitKey(1) == ord('q'):\n",
        "        break\n",
        "\n",
        "cap.release()\n",
        "cv.destroyAllWindows()"
      ]
    }
  ],
  "metadata": {
    "kernelspec": {
      "display_name": "pdienv",
      "language": "python",
      "name": "python3"
    },
    "language_info": {
      "codemirror_mode": {
        "name": "ipython",
        "version": 3
      },
      "file_extension": ".py",
      "mimetype": "text/x-python",
      "name": "python",
      "nbconvert_exporter": "python",
      "pygments_lexer": "ipython3",
      "version": "3.12.4"
    }
  },
  "nbformat": 4,
  "nbformat_minor": 2
}
