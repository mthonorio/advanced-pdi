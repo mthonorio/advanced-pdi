{
 "cells": [
  {
   "cell_type": "code",
   "execution_count": 63,
   "metadata": {},
   "outputs": [],
   "source": [
    "import numpy as np\n",
    "import cv2 as cv\n",
    "import matplotlib.pyplot as plt\n",
    "%matplotlib inline"
   ]
  },
  {
   "cell_type": "code",
   "execution_count": 64,
   "metadata": {},
   "outputs": [
    {
     "name": "stdout",
     "output_type": "stream",
     "text": [
      "Can't receive frame (stream end?). Exiting ...\n"
     ]
    }
   ],
   "source": [
    "cap = cv.VideoCapture('content/corgi_race.mp4')\n",
    "\n",
    "while cap.isOpened():\n",
    "    ret, frame = cap.read()\n",
    "    # if frame is read correctly ret is True\n",
    "    if not ret:\n",
    "        print(\"Can't receive frame (stream end?). Exiting ...\")\n",
    "        break\n",
    "    frame = cv.resize(frame, (640, 480))\n",
    "    #Conversáo para escala de cinza\n",
    "    frame = cv.cvtColor(frame, cv.COLOR_BGR2GRAY)\n",
    "\n",
    "    # calculate shifted dft\n",
    "    dft = cv.dft(np.float32(frame),flags = cv.DFT_COMPLEX_OUTPUT)\n",
    "    dft_shift = np.fft.fftshift(dft)\n",
    "\n",
    "    real = dft_shift[:,:,0]\n",
    "    imag = dft_shift[:,:,1]\n",
    "\n",
    "    # calculate spectrum\n",
    "    spectrum = 20*np.log(cv.magnitude(real,imag)+0.0001)\n",
    "    spectrum_norm = spectrum/np.max(spectrum)\n",
    "\n",
    "    # show grayscale frame and corresponding spectrum\n",
    "    cv.imshow('spectrum', spectrum_norm)\n",
    "    cv.imshow('frame', frame)\n",
    "\n",
    "    if cv.waitKey(1) == ord('q'):\n",
    "        break\n",
    "\n",
    "cap.release()\n",
    "cv.destroyAllWindows()"
   ]
  },
  {
   "cell_type": "markdown",
   "metadata": {},
   "source": [
    "# 1. Implemente um filtro passa-baixa ideal, aplique o filtro à transformada de Fourier do vídeo e mostre o vídeo do espectro resultantes para diferentes valores de D0."
   ]
  },
  {
   "cell_type": "code",
   "execution_count": 65,
   "metadata": {},
   "outputs": [],
   "source": [
    "def create_mask_PB_ideal(rows, cols, radius):\n",
    "    center = (int(cols / 2), int(rows / 2))\n",
    "    mask = np.zeros((rows, cols), np.uint8)\n",
    "    cv.circle(mask, center, radius, 1, thickness=-1)\n",
    "    return mask"
   ]
  },
  {
   "cell_type": "code",
   "execution_count": 66,
   "metadata": {},
   "outputs": [
    {
     "name": "stdout",
     "output_type": "stream",
     "text": [
      "Can't receive frame (stream end?). Exiting ...\n",
      "Can't receive frame (stream end?). Exiting ...\n",
      "Can't receive frame (stream end?). Exiting ...\n"
     ]
    }
   ],
   "source": [
    "D0_values = [30, 60, 100]\n",
    "\n",
    "for D0 in D0_values:\n",
    "    cap = cv.VideoCapture('content/corgi_race.mp4')\n",
    "\n",
    "    while cap.isOpened():\n",
    "        ret, frame = cap.read()\n",
    "        if not ret:\n",
    "            print(\"Can't receive frame (stream end?). Exiting ...\")\n",
    "            break\n",
    "        \n",
    "        frame = cv.resize(frame, (640, 480))\n",
    "        frame = cv.cvtColor(frame, cv.COLOR_BGR2GRAY)\n",
    "\n",
    "        # calculate shifted dft\n",
    "        dft = cv.dft(np.float32(frame), flags=cv.DFT_COMPLEX_OUTPUT)\n",
    "        dft_shift = np.fft.fftshift(dft)\n",
    "\n",
    "        real = dft_shift[:,:,0]\n",
    "        imag = dft_shift[:,:,1]\n",
    "\n",
    "        # calculate spectrum\n",
    "        spectrum = 20 * np.log(cv.magnitude(real, imag) + 0.0001)\n",
    "        spectrum_norm = spectrum / np.max(spectrum)\n",
    "        \n",
    "        # create ideal low-pass filter\n",
    "        mask = create_mask_PB_ideal(frame.shape[0], frame.shape[1], D0)\n",
    "        new_spectrum = spectrum_norm * mask\n",
    "\n",
    "        # apply mask\n",
    "        mask = np.stack((mask, mask), axis=-1)\n",
    "        dft_shift_filtered = dft_shift * mask\n",
    "\n",
    "        # inverse DFT\n",
    "        f_ishift = np.fft.ifftshift(dft_shift_filtered)\n",
    "        img_back = cv.idft(f_ishift)\n",
    "        img_back = cv.magnitude(img_back[:,:,0], img_back[:,:,1])\n",
    "\n",
    "        # normalize the image\n",
    "        cv.normalize(img_back, img_back, 0, 1, cv.NORM_MINMAX)\n",
    "\n",
    "        # show grayscale frame and corresponding spectrum\n",
    "        cv.imshow(f'spectrum (D0={D0})', new_spectrum)\n",
    "        cv.imshow(f'frame (D0={D0})', img_back)\n",
    "\n",
    "        if cv.waitKey(1) == ord('q'):\n",
    "            break\n",
    "\n",
    "    cap.release()\n",
    "    cv.destroyAllWindows()"
   ]
  },
  {
   "cell_type": "markdown",
   "metadata": {},
   "source": [
    "# 2. Implemente um filtro passa-baixa de Butterworth, aplique o filtro à transformada de Fourier do vídeo e mostre o vídeo do espectro resultantes para diferentes valores de D0 e de n."
   ]
  },
  {
   "cell_type": "code",
   "execution_count": 67,
   "metadata": {},
   "outputs": [],
   "source": [
    "def butterworth_lowpass_filter(rows, cols, D0, n):\n",
    "    u = np.arange(0, cols)\n",
    "    v = np.arange(0, rows)\n",
    "    u, v = np.meshgrid(u, v)\n",
    "    D = np.sqrt((u - cols/2)**2 + (v - rows/2)**2)\n",
    "    H = 1 / (1 + (D / D0)**(2 * n))\n",
    "    return H"
   ]
  },
  {
   "cell_type": "code",
   "execution_count": 68,
   "metadata": {},
   "outputs": [
    {
     "name": "stdout",
     "output_type": "stream",
     "text": [
      "Can't receive frame (stream end?). Exiting ...\n",
      "Can't receive frame (stream end?). Exiting ...\n",
      "Can't receive frame (stream end?). Exiting ...\n"
     ]
    }
   ],
   "source": [
    "D0_values = [30, 50, 70]\n",
    "n_values = [1, 2, 3]\n",
    "\n",
    "for D0 in D0_values:\n",
    "    for n in n_values:\n",
    "        cap = cv.VideoCapture('content/corgi_race.mp4')\n",
    "\n",
    "        while cap.isOpened():\n",
    "            ret, frame = cap.read()\n",
    "            if not ret:\n",
    "                print(\"Can't receive frame (stream end?). Exiting ...\")\n",
    "                break\n",
    "            \n",
    "            frame = cv.resize(frame, (640, 480))\n",
    "            frame = cv.cvtColor(frame, cv.COLOR_BGR2GRAY)\n",
    "\n",
    "            # calculate shifted dft\n",
    "            dft = cv.dft(np.float32(frame), flags=cv.DFT_COMPLEX_OUTPUT)\n",
    "            dft_shift = np.fft.fftshift(dft)\n",
    "\n",
    "            real = dft_shift[:,:,0]\n",
    "            imag = dft_shift[:,:,1]\n",
    "\n",
    "            # calculate spectrum\n",
    "            spectrum = 20 * np.log(cv.magnitude(real, imag) + 0.0001)\n",
    "            spectrum_norm = spectrum / np.max(spectrum)\n",
    "            \n",
    "            # create Butterworth low-pass filter\n",
    "            mask = butterworth_lowpass_filter(frame.shape[0], frame.shape[1], D0, n)\n",
    "\n",
    "            new_spectrum = spectrum_norm * mask\n",
    "\n",
    "            # apply mask\n",
    "            mask = np.stack((mask, mask), axis=-1)\n",
    "            dft_shift_filtered = dft_shift * mask\n",
    "\n",
    "\n",
    "            # inverse DFT\n",
    "            f_ishift = np.fft.ifftshift(dft_shift_filtered)\n",
    "            img_back = cv.idft(f_ishift)\n",
    "            img_back = cv.magnitude(img_back[:,:,0], img_back[:,:,1])\n",
    "\n",
    "            # normalize the image\n",
    "            cv.normalize(img_back, img_back, 0, 1, cv.NORM_MINMAX)\n",
    "\n",
    "            # show grayscale frame and corresponding spectrum\n",
    "            cv.imshow(f'spectrum (D0={D0}e n={n})', new_spectrum)\n",
    "            cv.imshow(f'frame (D0={D0} e n={n})', img_back)\n",
    "\n",
    "            if cv.waitKey(1) == ord('q'):\n",
    "                break\n",
    "\n",
    "        cap.release()\n",
    "        cv.destroyAllWindows()"
   ]
  },
  {
   "cell_type": "markdown",
   "metadata": {},
   "source": [
    "# 3. Implemente um filtro passa-alta gaussiano, aplique o filtro à transformada de Fourier do vídeo e mostre o vídeo do espectro resultantes para diferentes valores de D0."
   ]
  },
  {
   "cell_type": "code",
   "execution_count": 69,
   "metadata": {},
   "outputs": [],
   "source": [
    "def gaussian_highpass_filter(rows, cols, D0):\n",
    "    u = np.arange(0, cols)\n",
    "    v = np.arange(0, rows)\n",
    "    u, v = np.meshgrid(u, v)\n",
    "    D = np.sqrt((u - cols/2)**2 + (v - rows/2)**2)\n",
    "    H = 1 - np.exp(- (D**2) / (2 * (D0**2)))\n",
    "    return H"
   ]
  },
  {
   "cell_type": "code",
   "execution_count": 70,
   "metadata": {},
   "outputs": [],
   "source": [
    "D0_values = [30, 60, 100]\n",
    "\n",
    "for D0 in D0_values:\n",
    "    cap = cv.VideoCapture('content/corgi_race.mp4')\n",
    "\n",
    "    while cap.isOpened():\n",
    "        ret, frame = cap.read()\n",
    "        if not ret:\n",
    "            print(f\"Can't receive frame with D0={D0} (stream end?). Exiting ...\")\n",
    "            break\n",
    "        \n",
    "        frame = cv.resize(frame, (640, 480))\n",
    "        frame = cv.cvtColor(frame, cv.COLOR_BGR2GRAY)\n",
    "\n",
    "        # calculate shifted dft\n",
    "        dft = cv.dft(np.float32(frame), flags=cv.DFT_COMPLEX_OUTPUT)\n",
    "        dft_shift = np.fft.fftshift(dft)\n",
    "\n",
    "        real = dft_shift[:,:,0]\n",
    "        imag = dft_shift[:,:,1]\n",
    "\n",
    "        # calculate spectrum\n",
    "        spectrum = 20 * np.log(cv.magnitude(real, imag) + 0.0001)\n",
    "        spectrum_norm = spectrum / np.max(spectrum)\n",
    "        \n",
    "        # create Gaussian high-pass filter\n",
    "        mask = gaussian_highpass_filter(frame.shape[0], frame.shape[1], D0)\n",
    "\n",
    "        new_spectrum = spectrum_norm * mask\n",
    "\n",
    "        # apply mask\n",
    "        mask = np.stack((mask, mask), axis=-1)\n",
    "        dft_shift_filtered = dft_shift * mask\n",
    "\n",
    "        # inverse DFT\n",
    "        f_ishift = np.fft.ifftshift(dft_shift_filtered)\n",
    "        img_back = cv.idft(f_ishift)\n",
    "        img_back = cv.magnitude(img_back[:,:,0], img_back[:,:,1])\n",
    "\n",
    "        # normalize the image\n",
    "        cv.normalize(img_back, img_back, 0, 1, cv.NORM_MINMAX)\n",
    "\n",
    "        # show grayscale frame and corresponding spectrum\n",
    "        cv.imshow(f'spectrum (D0={D0})', new_spectrum)\n",
    "        cv.imshow(f'frame (D0={D0})', img_back)\n",
    "\n",
    "        if cv.waitKey(1) == ord('q'):\n",
    "            break\n",
    "\n",
    "    cap.release()\n",
    "    cv.destroyAllWindows()"
   ]
  }
 ],
 "metadata": {
  "kernelspec": {
   "display_name": "pdienv",
   "language": "python",
   "name": "python3"
  },
  "language_info": {
   "codemirror_mode": {
    "name": "ipython",
    "version": 3
   },
   "file_extension": ".py",
   "mimetype": "text/x-python",
   "name": "python",
   "nbconvert_exporter": "python",
   "pygments_lexer": "ipython3",
   "version": "3.12.1"
  }
 },
 "nbformat": 4,
 "nbformat_minor": 2
}
