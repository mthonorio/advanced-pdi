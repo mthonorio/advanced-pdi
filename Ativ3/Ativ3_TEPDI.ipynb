{
  "cells": [
    {
      "cell_type": "code",
      "execution_count": 2,
      "metadata": {},
      "outputs": [],
      "source": [
        "import numpy as np\n",
        "import cv2 as cv\n",
        "import matplotlib.pyplot as plt\n",
        "%matplotlib inline"
      ]
    },
    {
      "cell_type": "code",
      "execution_count": 5,
      "metadata": {},
      "outputs": [
        {
          "name": "stdout",
          "output_type": "stream",
          "text": [
            "Can't receive frame (stream end?). Exiting ...\n"
          ]
        }
      ],
      "source": [
        "cap = cv.VideoCapture('../content/corgi_race.mp4')\n",
        "\n",
        "while cap.isOpened():\n",
        "    ret, frame = cap.read()\n",
        "    # if frame is read correctly ret is True\n",
        "    if not ret:\n",
        "        print(\"Can't receive frame (stream end?). Exiting ...\")\n",
        "        break\n",
        "    frame = cv.resize(frame, (640, 480))\n",
        "    cv.imshow('frame', frame)\n",
        "    if cv.waitKey(1) == ord('q'):\n",
        "        break\n",
        "cap.release()\n",
        "cv.destroyAllWindows()"
      ]
    },
    {
      "cell_type": "code",
      "execution_count": 3,
      "metadata": {},
      "outputs": [
        {
          "name": "stderr",
          "output_type": "stream",
          "text": [
            "Warning: Ignoring XDG_SESSION_TYPE=wayland on Gnome. Use QT_QPA_PLATFORM=wayland to run on Wayland anyway.\n"
          ]
        },
        {
          "name": "stdout",
          "output_type": "stream",
          "text": [
            "Can't receive frame (stream end?). Exiting ...\n"
          ]
        }
      ],
      "source": [
        "cap = cv.VideoCapture('../content/corgi_race.mp4')\n",
        "BW_frames = []\n",
        "\n",
        "while cap.isOpened():\n",
        "    ret, frame = cap.read()\n",
        "    # if frame is read correctly ret is True\n",
        "    if not ret:\n",
        "        print(\"Can't receive frame (stream end?). Exiting ...\")\n",
        "        break\n",
        "    frame = cv.resize(frame, (640, 480))\n",
        "    frame = cv.cvtColor(frame, cv.COLOR_BGR2GRAY)\n",
        "    BW_frames.append(frame)\n",
        "    cv.imshow('frame', frame)\n",
        "    if cv.waitKey(1) == ord('q'):\n",
        "        break\n",
        "cap.release()\n",
        "cv.destroyAllWindows()\n",
        "\n",
        "BW_frames = np.array(BW_frames)"
      ]
    },
    {
      "cell_type": "code",
      "execution_count": 4,
      "metadata": {},
      "outputs": [],
      "source": [
        "def correlation_with_stride(image, m, n, stride, filter_matrix):\n",
        "  height, width = image.shape\n",
        "  filter_height = m\n",
        "  filter_width = n\n",
        "  result_height = (height - filter_height) // stride + 1\n",
        "  result_width = (width - filter_width) // stride + 1\n",
        "  result = np.empty((result_height, result_width), dtype=float)\n",
        "\n",
        "  channel_data = image\n",
        "  for i in range(0, result_height):\n",
        "    for j in range(0, result_width):\n",
        "      submatrix = channel_data[i*stride:i*stride+filter_height, j*stride:j*stride+filter_width]\n",
        "      correlation = np.abs(np.sum(submatrix * filter_matrix))\n",
        "      result[i][j] = correlation\n",
        "\n",
        "  return result"
      ]
    },
    {
      "cell_type": "code",
      "execution_count": 18,
      "metadata": {},
      "outputs": [
        {
          "name": "stdout",
          "output_type": "stream",
          "text": [
            "[[ 62  82  87 ... 117 115  75]\n",
            " [ 62  82  87 ... 116 113  73]\n",
            " [ 62  83  88 ... 112 110  70]\n",
            " ...\n",
            " [ 59  76  76 ...  80  83  63]\n",
            " [ 59  76  75 ...  78  82  62]\n",
            " [ 59  76  77 ...  77  82  62]]\n"
          ]
        }
      ],
      "source": [
        "print(BW_frames[0])"
      ]
    },
    {
      "cell_type": "code",
      "execution_count": 5,
      "metadata": {},
      "outputs": [],
      "source": [
        "#Filtro de média 3x3\n",
        "filter_height = 3\n",
        "filter_width = 3\n",
        "filter_matrix = np.array([[1/9,1/9,1/9],\n",
        "                          [1/9,1/9,1/9],\n",
        "                          [1/9,1/9,1/9]])"
      ]
    },
    {
      "cell_type": "code",
      "execution_count": 6,
      "metadata": {},
      "outputs": [],
      "source": [
        "filtered_frames = []\n",
        "\n",
        "for f in BW_frames:\n",
        "    filtered_frames.append(correlation_with_stride(f, filter_height, filter_width, 1, filter_matrix).astype('uint8'))\n",
        "\n",
        "filtered_frames = np.array(filtered_frames)"
      ]
    },
    {
      "cell_type": "code",
      "execution_count": 7,
      "metadata": {},
      "outputs": [
        {
          "ename": "",
          "evalue": "",
          "output_type": "error",
          "traceback": [
            "\u001b[1;31mThe Kernel crashed while executing code in the current cell or a previous cell. \n",
            "\u001b[1;31mPlease review the code in the cell(s) to identify a possible cause of the failure. \n",
            "\u001b[1;31mClick <a href='https://aka.ms/vscodeJupyterKernelCrash'>here</a> for more info. \n",
            "\u001b[1;31mView Jupyter <a href='command:jupyter.viewOutput'>log</a> for further details."
          ]
        }
      ],
      "source": [
        "for f in filtered_frames:\n",
        "    cv.imshow('frame', f)\n",
        "    if cv.waitKey(1) == ord('q'):\n",
        "        break\n",
        "    cv.destroyAllWindows()"
      ]
    },
    {
      "cell_type": "code",
      "execution_count": null,
      "metadata": {},
      "outputs": [],
      "source": [
        "ddepth = -1\n",
        "\n",
        "ind = 0\n",
        "kernel_size = 3 + 2 * (ind % 5)\n",
        "kernel = np.ones((kernel_size, kernel_size), dtype=np.float32)\n",
        "kernel /= (kernel_size * kernel_size)\n",
        "\n",
        "filtered_frames_cv = []\n",
        "\n",
        "vid_3_channels = cv.merge(BW_frames, BW_frames, BW_frames)\n",
        "\n",
        "for f in vid_3_channels:\n",
        "    filtered_frames_cv.append(cv.filter2D(f, ddepth, kernel))\n",
        "\n",
        "filtered_frames_cv = np.array(filtered_frames_cv)"
      ]
    },
    {
      "cell_type": "code",
      "execution_count": null,
      "metadata": {},
      "outputs": [],
      "source": [
        "for f in filtered_frames_cv:\n",
        "    cv.imshow('frame', f)\n",
        "    if cv.waitKey(1) == ord('q'):\n",
        "        break\n",
        "    cv.destroyAllWindows()"
      ]
    },
    {
      "cell_type": "code",
      "execution_count": null,
      "metadata": {},
      "outputs": [],
      "source": [
        "laplacian_frames = []\n",
        "\n",
        "filter_matrix = np.array([[-1, -1, -1],\n",
        "                          [-1, 8, -1],\n",
        "                          [-1, -1, -1]])\n",
        "\n",
        "for f in BW_frames:\n",
        "    laplacian_frames.append(correlation_with_stride(f, filter_height, filter_width, 1, filter_matrix).astype('uint8'))\n",
        "\n",
        "laplacian_frames = np.array(filtered_frames)"
      ]
    },
    {
      "cell_type": "code",
      "execution_count": null,
      "metadata": {},
      "outputs": [],
      "source": [
        "for f in laplacian_frames:\n",
        "    cv.imshow('frame', f)\n",
        "    if cv.waitKey(1) == ord('q'):\n",
        "        break\n",
        "    cv.destroyAllWindows()"
      ]
    },
    {
      "cell_type": "code",
      "execution_count": null,
      "metadata": {},
      "outputs": [],
      "source": [
        "laplacian_frames_cv = []\n",
        "\n",
        "filter_matrix = np.array([[-1, -1, -1],\n",
        "                          [-1, 8, -1],\n",
        "                          [-1, -1, -1]])\n",
        "\n",
        "for f in vid_3_channels:\n",
        "    laplacian_frames_cv.append(correlation_with_stride(f, filter_height, filter_width, 1, filter_matrix).astype('uint8'))\n",
        "\n",
        "laplacian_frames_cv = np.array(filtered_frames)"
      ]
    },
    {
      "cell_type": "code",
      "execution_count": null,
      "metadata": {},
      "outputs": [],
      "source": [
        "for f in laplacian_frames_cv:\n",
        "    cv.imshow('frame', f)\n",
        "    if cv.waitKey(1) == ord('q'):\n",
        "        break\n",
        "    cv.destroyAllWindows()"
      ]
    },
    {
      "cell_type": "code",
      "execution_count": null,
      "metadata": {},
      "outputs": [],
      "source": [
        "sobel_x_frames = []\n",
        "\n",
        "filter_matrix = np.array([[-1, -2, -1],\n",
        "                          [0, 0, 0],\n",
        "                          [1, 2, 1]])\n",
        "\n",
        "for f in BW_frames:\n",
        "    sobel_x_frames.append(correlation_with_stride(f, filter_height, filter_width, 1, filter_matrix).astype('uint8'))\n",
        "\n",
        "sobel_x_frames = np.array(filtered_frames)\n",
        "\n",
        "\n",
        "sobel_y_frames = []\n",
        "\n",
        "filter_matriy = np.array([[-1, 0, 1],\n",
        "                          [-2, 0, 2],\n",
        "                          [-1, 0, 1]])\n",
        "\n",
        "for f in BW_frames:\n",
        "    sobel_y_frames.append(correlation_with_stride(f, filter_height, filter_width, 1, filter_matriy).astype('uint8'))\n",
        "\n",
        "sobel_y_frames = np.array(filtered_frames)\n",
        "\n",
        "sobel_frames = np.add(sobel_x_frames, sobel_y_frames)"
      ]
    },
    {
      "cell_type": "code",
      "execution_count": null,
      "metadata": {},
      "outputs": [],
      "source": [
        "sobel_x_frames_cv = []\n",
        "sobel_y_frames_cv = []\n",
        "\n",
        "for f in vid_3_channels:\n",
        "    sobel_x_frames_cv.append(cv.Sobel(f, 1, 0, ddepth=-1, ksize=3))\n",
        "\n",
        "for f in vid_3_channels:\n",
        "    sobel_x_frames_cv.append(cv.Sobel(f, 0, 1, ddepth=-1, ksize=3))\n",
        "\n",
        "sobel_frames_cv = np.add(sobel_x_frames_cv, sobel_y_frames_cv)"
      ]
    },
    {
      "cell_type": "code",
      "execution_count": null,
      "metadata": {},
      "outputs": [],
      "source": [
        "for f in sobel_frames_cv:\n",
        "    cv.imshow('frame', f)\n",
        "    if cv.waitKey(1) == ord('q'):\n",
        "        break\n",
        "    cv.destroyAllWindows()"
      ]
    }
  ],
  "metadata": {
    "kernelspec": {
      "display_name": "Python 3",
      "language": "python",
      "name": "python3"
    },
    "language_info": {
      "codemirror_mode": {
        "name": "ipython",
        "version": 3
      },
      "file_extension": ".py",
      "mimetype": "text/x-python",
      "name": "python",
      "nbconvert_exporter": "python",
      "pygments_lexer": "ipython3",
      "version": "3.12.4"
    }
  },
  "nbformat": 4,
  "nbformat_minor": 2
}
